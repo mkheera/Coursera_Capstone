{
 "cells": [
  {
   "cell_type": "markdown",
   "metadata": {},
   "source": [
    "## Data\n"
   ]
  },
  {
   "cell_type": "markdown",
   "metadata": {},
   "source": [
    "Brisbane Suburb names will be scraped from wikipedia .As the post code information is not directly available on wikipedia I have copied it from a file on github that had all the postcode and geocodes of Australia.The link is https://gist.github.com/randomecho/5020859. The Queensland postcodes data from this file will then be copied to an excel file converted to csv and then using pandas appended to my original Brisbane suburbs file.Now I have my dataframe with Suburb name,Postcode,Suburb latitude and Suburb longitude.\n"
   ]
  },
  {
   "cell_type": "markdown",
   "metadata": {},
   "source": [
    "Next step is to find the different venues in each suburb.Foursquare location data will be used to acheive this.Sending a request to the Foursquare  with suburb latitude and longitude will return all the venues in that suburb.For each suburb,I will be extracting venues names,venue category and venue location."
   ]
  },
  {
   "cell_type": "code",
   "execution_count": null,
   "metadata": {
    "collapsed": true
   },
   "outputs": [],
   "source": []
  }
 ],
 "metadata": {
  "kernelspec": {
   "display_name": "Python 3",
   "language": "python",
   "name": "python3"
  },
  "language_info": {
   "codemirror_mode": {
    "name": "ipython",
    "version": 3
   },
   "file_extension": ".py",
   "mimetype": "text/x-python",
   "name": "python",
   "nbconvert_exporter": "python",
   "pygments_lexer": "ipython3",
   "version": "3.6.6"
  }
 },
 "nbformat": 4,
 "nbformat_minor": 2
}
